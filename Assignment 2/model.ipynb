{
 "cells": [
  {
   "cell_type": "code",
   "execution_count": 1,
   "metadata": {},
   "outputs": [],
   "source": [
    "import gym\n",
    "from matplotlib import pyplot as plt\n",
    "import torch\n",
    "import torch.nn as nn\n",
    "import torch.nn.functional as F\n",
    "from collections import deque, namedtuple\n",
    "import random\n",
    "import numpy as np"
   ]
  },
  {
   "cell_type": "markdown",
   "metadata": {},
   "source": [
    "Global valriables"
   ]
  },
  {
   "cell_type": "code",
   "execution_count": 29,
   "metadata": {},
   "outputs": [
    {
     "name": "stdout",
     "output_type": "stream",
     "text": [
      "cuda\n"
     ]
    }
   ],
   "source": [
    "GAMMA = 0.99\n",
    "AVG_OVER = 5\n",
    "LR = 0.001\n",
    "BUFFER_SIZE = 100\n",
    "BATCH_SIZE = 64\n",
    "UPDATE_EVERY = 100\n",
    "device = torch.device(\"cuda\" if torch.cuda.is_available() else \"cpu\")\n",
    "print(device)"
   ]
  },
  {
   "cell_type": "code",
   "execution_count": 3,
   "metadata": {},
   "outputs": [],
   "source": [
    "env_cart_pole = gym.make('CartPole-v1')\n",
    "obs, info = env_cart_pole.reset(seed = 0)\n",
    "#print(f'Observation space: {obs}, Info: {info}')\n",
    "\n",
    "env_acro_bot = gym.make('Acrobot-v1')\n",
    "obs, info = env_acro_bot.reset(seed = 0)\n",
    "#print(f'Observation space: {obs}, Info: {info}')\n"
   ]
  },
  {
   "cell_type": "code",
   "execution_count": 4,
   "metadata": {},
   "outputs": [],
   "source": [
    "def print_env_details(env):\n",
    "    print(\"Env name: \", str(env.env)[34:-3])\n",
    "    print(f'Observation space: {env.observation_space.shape[0]}')\n",
    "    print(f'Action space: {env.action_space.n}')"
   ]
  },
  {
   "cell_type": "code",
   "execution_count": 5,
   "metadata": {},
   "outputs": [
    {
     "name": "stdout",
     "output_type": "stream",
     "text": [
      "Env name:  CartPoleEnv<CartPole-v1>\n",
      "Observation space: 4\n",
      "Action space: 2\n",
      "Env name:  AcrobotEnv<Acrobot-v1>\n",
      "Observation space: 6\n",
      "Action space: 3\n"
     ]
    }
   ],
   "source": [
    "print_env_details(env_cart_pole)\n",
    "print_env_details(env_acro_bot)"
   ]
  },
  {
   "cell_type": "code",
   "execution_count": null,
   "metadata": {},
   "outputs": [],
   "source": []
  },
  {
   "cell_type": "markdown",
   "metadata": {},
   "source": [
    "# Dueling-DQN"
   ]
  },
  {
   "cell_type": "code",
   "execution_count": 60,
   "metadata": {},
   "outputs": [],
   "source": [
    "class QNetwork1(nn.Module):\n",
    "    def __init__(self, state_size, action_size, seed, fc1_units=128, fc2_units=64, activation = F.relu):\n",
    "        super(QNetwork1, self).__init__()\n",
    "        self.seed = torch.manual_seed(seed)\n",
    "        self.fc1 = nn.Linear(state_size, fc1_units)\n",
    "        self.fc2 = nn.Linear(fc1_units, fc2_units)\n",
    "        self.fc_v_1 = nn.Linear(fc2_units, 32)\n",
    "        self.fc_v_2 = nn.Linear(32, 1)\n",
    "        self.fc_a_1 = nn.Linear(fc2_units, 32)\n",
    "        self.fc_a_2 = nn.Linear(32, action_size)\n",
    "        self.activation = activation\n",
    "\n",
    "    def forward(self, state):\n",
    "        x = self.activation(self.fc1(state))\n",
    "        x = self.activation(self.fc2(x))\n",
    "        v = self.activation(self.fc_v_1(x))\n",
    "        v = self.fc_v_2(v)\n",
    "        a = self.activation(self.fc_a_1(x))\n",
    "        a = self.fc_a_2(a)\n",
    "        q = v + (a - a.mean())\n",
    "        return q"
   ]
  },
  {
   "cell_type": "code",
   "execution_count": 61,
   "metadata": {},
   "outputs": [
    {
     "data": {
      "text/plain": [
       "QNetwork1(\n",
       "  (fc1): Linear(in_features=4, out_features=128, bias=True)\n",
       "  (fc2): Linear(in_features=128, out_features=64, bias=True)\n",
       "  (fc_v_1): Linear(in_features=64, out_features=32, bias=True)\n",
       "  (fc_v_2): Linear(in_features=32, out_features=1, bias=True)\n",
       "  (fc_a_1): Linear(in_features=64, out_features=32, bias=True)\n",
       "  (fc_a_2): Linear(in_features=32, out_features=2, bias=True)\n",
       ")"
      ]
     },
     "execution_count": 61,
     "metadata": {},
     "output_type": "execute_result"
    }
   ],
   "source": [
    "model = QNetwork1(4, 2, 0)\n",
    "model"
   ]
  },
  {
   "cell_type": "code",
   "execution_count": 44,
   "metadata": {},
   "outputs": [
    {
     "name": "stdout",
     "output_type": "stream",
     "text": [
      "tensor([[0.0986, 0.1155]], grad_fn=<AddBackward0>)\n",
      "tensor(0.0115, grad_fn=<MseLossBackward0>)\n",
      "tensor([[0.0851, 0.0967]], grad_fn=<AddBackward0>)\n",
      "tensor(0.0083, grad_fn=<MseLossBackward0>)\n"
     ]
    }
   ],
   "source": [
    "s,_ = env_cart_pole.reset()\n",
    "print(model(torch.tensor(s).float().unsqueeze(0)))\n",
    "error = nn.MSELoss()\n",
    "optimizer = torch.optim.Adam(model.parameters(), lr=LR)\n",
    "loss = error(model(torch.tensor(s).float().unsqueeze(0)), torch.tensor([0.0, 0.0]).unsqueeze(0))\n",
    "print(loss)\n",
    "loss.backward()\n",
    "optimizer.step()\n",
    "print(model(torch.tensor(s).float().unsqueeze(0)))\n",
    "new_loss = error(model(torch.tensor(s).float().unsqueeze(0)), torch.tensor([0.0, 0.0]).unsqueeze(0))\n",
    "print(new_loss)"
   ]
  },
  {
   "cell_type": "code",
   "execution_count": 47,
   "metadata": {},
   "outputs": [
    {
     "data": {
      "text/plain": [
       "'computational_graph.pdf'"
      ]
     },
     "execution_count": 47,
     "metadata": {},
     "output_type": "execute_result"
    }
   ],
   "source": [
    "import torchviz\n",
    "\n",
    "# Create a dummy input tensor\n",
    "dummy_input = torch.randn(1, state_space)\n",
    "\n",
    "# Generate the computational graph\n",
    "graph = torchviz.make_dot(model(dummy_input), params=dict(model.named_parameters()))\n",
    "\n",
    "# Save the graph as a PDF file\n",
    "graph.render(\"computational_graph\")\n"
   ]
  },
  {
   "cell_type": "code",
   "execution_count": 64,
   "metadata": {},
   "outputs": [],
   "source": [
    "class ReplayBuffer:\n",
    "    def __init__(self, action_size, buffer_size, batch_size, seed):\n",
    "        self.action_size = action_size\n",
    "        self.memory = deque(maxlen=buffer_size)\n",
    "        self.batch_size = batch_size\n",
    "        self.experience = namedtuple(\"Experience\", field_names=[\"state\", \"action\", \"reward\", \"next_state\", \"done\"])\n",
    "        self.seed = random.seed(seed)\n",
    "\n",
    "    def add(self, state, action, reward, next_state, done):\n",
    "        e = self.experience(state, action, reward, next_state, done)\n",
    "        self.memory.append(e)\n",
    "\n",
    "    def sample(self):\n",
    "        experiences = random.sample(self.memory, k=self.batch_size)\n",
    "\n",
    "        states = torch.from_numpy(np.vstack([e.state for e in experiences if e is not None])).float().to(device)\n",
    "        actions = torch.from_numpy(np.vstack([e.action for e in experiences if e is not None])).float().to(device)\n",
    "        rewards = torch.from_numpy(np.vstack([e.reward for e in experiences if e is not None])).float().to(device)\n",
    "        next_states = torch.from_numpy(np.vstack([e.next_state for e in experiences if e is not None])).float().to(device)\n",
    "        dones = torch.from_numpy(np.vstack([e.done for e in experiences if e is not None]).astype(np.uint8)).float().to(device)\n",
    "        return (states, actions, rewards, next_states, dones)\n",
    "    \n",
    "    def __len__(self):\n",
    "        return len(self.memory)\n",
    "    "
   ]
  },
  {
   "cell_type": "code",
   "execution_count": 65,
   "metadata": {},
   "outputs": [],
   "source": [
    "class DDQN_Agent():\n",
    "    def __init__(self, state_size, action_size, seed):\n",
    "        self.state_size = state_size\n",
    "        self.action_size = action_size\n",
    "        self.seed = random.seed(seed)\n",
    "\n",
    "        self.qnetwork_local = QNetwork1(state_size, action_size, seed).to(device)\n",
    "        self.qnetwork_target = QNetwork1(state_size, action_size, seed).to(device)\n",
    "        self.optimizer = torch.optim.Adam(self.qnetwork_local.parameters(), lr=LR)\n",
    "\n",
    "        self.memory = ReplayBuffer(action_size, BUFFER_SIZE, BATCH_SIZE, seed)\n",
    "        self.t_step = 0\n",
    "\n",
    "    def step(self, state, action, reward, next_state, done):\n",
    "        self.memory.add(state, action, reward, next_state, done)\n",
    "        \n",
    "        if(len(self.memory) > BATCH_SIZE):\n",
    "            experiences = self.memory.sample()\n",
    "            self.learn(experiences, GAMMA)\n",
    "        \n",
    "        self.t_step = (self.t_step + 1) % UPDATE_EVERY\n",
    "        if self.t_step == 0:\n",
    "            self.qnetwork_target.load_state_dict(self.qnetwork_local.state_dict())\n",
    "\n",
    "    def act(self, state, eps=0.):\n",
    "        state = torch.from_numpy(state).float().unsqueeze(0).to(device)\n",
    "        self.qnetwork_local.eval()\n",
    "        with torch.no_grad():\n",
    "            action_values = self.qnetwork_local(state)\n",
    "        self.qnetwork_local.train()\n",
    "\n",
    "        if random.random() > eps:\n",
    "            return np.argmax(action_values.cpu().data.numpy())\n",
    "        else:\n",
    "            return random.choice(np.arange(self.action_size))\n",
    "        \n",
    "    def learn(self, experiences, gamma):\n",
    "        states, actions, rewards, next_states, dones = experiences\n",
    "\n",
    "        Q_targets_next = self.qnetwork_target(next_states).detach().max(1)[0].unsqueeze(1)\n",
    "        Q_targets = rewards + (gamma * Q_targets_next * (1 - dones))\n",
    "\n",
    "        Q_expected = self.qnetwork_local(states).gather(1, actions.long())\n",
    "\n",
    "        loss = F.mse_loss(Q_expected, Q_targets)\n",
    "        self.optimizer.zero_grad()\n",
    "        loss.backward()\n",
    "        for param in self.qnetwork_local.parameters():\n",
    "            param.grad.data.clamp_(-1, 1)\n",
    "        self.optimizer.step()\n",
    "\n",
    "        \n"
   ]
  },
  {
   "cell_type": "code",
   "execution_count": 66,
   "metadata": {},
   "outputs": [],
   "source": [
    "def dqn_train(agent,env, n_episodes=10000, max_t=1000, eps_start=1.0, eps_end=0.01, eps_decay=0.995):\n",
    "\n",
    "    scores_window = deque(maxlen=100)\n",
    "    ''' last 100 scores for checking if the avg is more than 195 '''\n",
    "\n",
    "    eps = eps_start\n",
    "    ''' initialize epsilon '''\n",
    "\n",
    "    for i_episode in range(1, n_episodes+1):\n",
    "        state = env.reset()[0]\n",
    "        score = 0\n",
    "        for t in range(max_t):\n",
    "            action = agent.act(state, eps)\n",
    "            next_state, reward, done, _, _ = env.step(action)\n",
    "            agent.step(state, action, reward, next_state, done)\n",
    "            state = next_state\n",
    "            score += reward\n",
    "            if done:\n",
    "                break\n",
    "\n",
    "        scores_window.append(score)\n",
    "\n",
    "        eps = max(eps_end, eps_decay*eps)\n",
    "        ''' decrease epsilon '''\n",
    "\n",
    "        print('\\rEpisode {}\\tAverage Score: {:.2f}'.format(i_episode, np.mean(scores_window)), end=\"\")\n",
    "\n",
    "        if i_episode % 100 == 0:\n",
    "           print('\\rEpisode {}\\tAverage Score: {:.2f}'.format(i_episode, np.mean(scores_window)))\n",
    "        if np.mean(scores_window)>=195.0:\n",
    "           print('\\nEnvironment solved in {:d} episodes!\\tAverage Score: {:.2f}'.format(i_episode, np.mean(scores_window)))\n",
    "           break\n",
    "    return True"
   ]
  },
  {
   "cell_type": "markdown",
   "metadata": {},
   "source": [
    "### Type-1 Update rule"
   ]
  },
  {
   "cell_type": "markdown",
   "metadata": {},
   "source": [
    "\\begin{align*}\n",
    "  Q(s,a;\\theta) = V(s;\\theta) + (A(s,a;\\theta) - \\frac{1}{|A|}\\sum_{a'\\epsilon|A|}A(s,a';\\theta))\n",
    "\\end{align*}"
   ]
  },
  {
   "cell_type": "code",
   "execution_count": 67,
   "metadata": {},
   "outputs": [],
   "source": [
    "def forward(self, state):\n",
    "        x = self.activation(self.fc1(state))\n",
    "        x = self.activation(self.fc2(x))\n",
    "        v = self.activation(self.fc_v_1(x))\n",
    "        v = self.fc_v_2(v)\n",
    "        a = self.activation(self.fc_a_1(x))\n",
    "        a = self.fc_a_2(a)\n",
    "        q = v + (a - a.mean())\n",
    "        return q\n",
    "QNetwork1.forward = forward\n"
   ]
  },
  {
   "cell_type": "code",
   "execution_count": 68,
   "metadata": {},
   "outputs": [],
   "source": [
    "state_space = env_cart_pole.observation_space.shape[0]\n",
    "action_space = env_cart_pole.action_space.n\n"
   ]
  },
  {
   "cell_type": "code",
   "execution_count": 69,
   "metadata": {},
   "outputs": [
    {
     "name": "stdout",
     "output_type": "stream",
     "text": [
      "Episode 100\tAverage Score: 36.74\n",
      "Episode 200\tAverage Score: 114.14\n",
      "Episode 300\tAverage Score: 187.25\n",
      "Episode 370\tAverage Score: 197.42\n",
      "Environment solved in 370 episodes!\tAverage Score: 197.42\n"
     ]
    },
    {
     "data": {
      "text/plain": [
       "True"
      ]
     },
     "execution_count": 69,
     "metadata": {},
     "output_type": "execute_result"
    }
   ],
   "source": [
    "dualing_dqn_agent = DDQN_Agent(state_space, action_space, seed=0)\n",
    "dqn_train(dualing_dqn_agent, env_cart_pole)"
   ]
  },
  {
   "cell_type": "markdown",
   "metadata": {},
   "source": [
    "### Type-2 Update Rule"
   ]
  },
  {
   "cell_type": "markdown",
   "metadata": {},
   "source": [
    "\\begin{align*}\n",
    "  Q(s,a;\\theta) = V(s;\\theta) + (A(s,a;\\theta) - \\max_{a'\\epsilon|A|}\\sum_{a'\\epsilon|A|}A(s,a';\\theta))\n",
    "\\end{align*}"
   ]
  },
  {
   "cell_type": "code",
   "execution_count": 73,
   "metadata": {},
   "outputs": [],
   "source": [
    "def forward(self, state):\n",
    "        x = self.activation(self.fc1(state))\n",
    "        x = self.activation(self.fc2(x))\n",
    "        v = self.activation(self.fc_v_1(x))\n",
    "        v = self.fc_v_2(v)\n",
    "        a = self.activation(self.fc_a_1(x))\n",
    "        a = self.fc_a_2(a)\n",
    "        q = v + (a - a.max())\n",
    "        return q\n",
    "QNetwork1.forward = forward\n"
   ]
  },
  {
   "cell_type": "code",
   "execution_count": 74,
   "metadata": {},
   "outputs": [],
   "source": [
    "state_space = env_cart_pole.observation_space.shape[0]\n",
    "action_space = env_cart_pole.action_space.n\n"
   ]
  },
  {
   "cell_type": "code",
   "execution_count": 75,
   "metadata": {},
   "outputs": [
    {
     "name": "stdout",
     "output_type": "stream",
     "text": [
      "Episode 100\tAverage Score: 35.71\n",
      "Episode 200\tAverage Score: 108.00\n",
      "Episode 262\tAverage Score: 203.88\n",
      "Environment solved in 262 episodes!\tAverage Score: 203.88\n"
     ]
    },
    {
     "data": {
      "text/plain": [
       "True"
      ]
     },
     "execution_count": 75,
     "metadata": {},
     "output_type": "execute_result"
    }
   ],
   "source": [
    "dualing_dqn_agent = DDQN_Agent(state_space, action_space, seed=0)\n",
    "dqn_train(dualing_dqn_agent, env_cart_pole)"
   ]
  },
  {
   "cell_type": "markdown",
   "metadata": {},
   "source": [
    "# Monte-Carlo REINFORCE"
   ]
  },
  {
   "cell_type": "markdown",
   "metadata": {},
   "source": [
    "### W/O Baseline"
   ]
  },
  {
   "cell_type": "code",
   "execution_count": null,
   "metadata": {},
   "outputs": [],
   "source": []
  },
  {
   "cell_type": "markdown",
   "metadata": {},
   "source": [
    "### W/ Baseline"
   ]
  },
  {
   "cell_type": "code",
   "execution_count": null,
   "metadata": {},
   "outputs": [],
   "source": []
  }
 ],
 "metadata": {
  "kernelspec": {
   "display_name": "env_pytorch",
   "language": "python",
   "name": "python3"
  },
  "language_info": {
   "codemirror_mode": {
    "name": "ipython",
    "version": 3
   },
   "file_extension": ".py",
   "mimetype": "text/x-python",
   "name": "python",
   "nbconvert_exporter": "python",
   "pygments_lexer": "ipython3",
   "version": "3.11.7"
  }
 },
 "nbformat": 4,
 "nbformat_minor": 2
}
